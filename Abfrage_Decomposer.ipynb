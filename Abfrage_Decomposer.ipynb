{
 "cells": [
  {
   "cell_type": "code",
   "execution_count": null,
   "id": "524826cc",
   "metadata": {},
   "outputs": [],
   "source": [
    "from rdflib import Graph\n",
    "from pathlib import Path\n",
    "from rdflib import Graph, URIRef, RDF, Namespace, Literal\n",
    "from rdflib.namespace import XSD\n",
    "import pandas as pd\n",
    "import os\n",
    "from collections import namedtuple\n",
    "# Initialisierung\n",
    "\n",
    "OntologyData = namedtuple(\"OntologyData\", [\n",
    "    \"ont_iri\", \"class_pr\",\"op_pr\",\"dp_pr\",\"ont_path\",\"g\"\n",
    "])\n",
    "\n",
    "def reload_graph(approach):\n",
    "    ont_iri = \"http://www.semanticweb.org/SkillOA/2025/3/KBII/\"\n",
    "    ont_ir = Namespace(ont_iri)\n",
    "    class_pr = Namespace(f\"{ont_iri}class_\")\n",
    "    op_pr = Namespace(f\"{ont_iri}op_\")\n",
    "    dp_pr = Namespace(f\"{ont_iri}dp_\")\n",
    "\n",
    "    if approach ==1:\n",
    "        ontology_path = Path(r\"C:\\Users\\Alexander Verkhov\\Downloads\\KB2_v0.1.ttl\")\n",
    "    elif approach ==2:\n",
    "        ontology_path = Path(r\"C:\\Users\\Alexander Verkhov\\Downloads\\KB2_v0.1.ttl\")\n",
    "    \n",
    "    if not ontology_path.exists():\n",
    "        raise FileNotFoundError(f\"Datei nicht gefunden: {ontology_path}\")\n",
    "\n",
    "    g = Graph()\n",
    "\n",
    "    # Statt file=..., den Inhalt als String lesen\n",
    "    ttl_text = ontology_path.read_text(encoding=\"utf-8\")\n",
    "    g.parse(data=ttl_text, format=\"turtle\")\n",
    "\n",
    "    return OntologyData(ont_ir, class_pr, op_pr, dp_pr, ontology_path, g)\n",
    "#reload_graph()\n",
    "data = reload_graph()\n",
    "print(data.ont_iri)"
   ]
  }
 ],
 "metadata": {
  "kernelspec": {
   "display_name": "Python 3",
   "language": "python",
   "name": "python3"
  },
  "language_info": {
   "name": "python",
   "version": "3.12.1"
  }
 },
 "nbformat": 4,
 "nbformat_minor": 5
}
